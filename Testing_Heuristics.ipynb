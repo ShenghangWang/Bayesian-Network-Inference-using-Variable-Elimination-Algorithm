{
 "cells": [
  {
   "cell_type": "markdown",
   "metadata": {},
   "source": [
    "Authors: Harrison Froedge and Shenghang Wang\n",
    "\n",
    "January 2021\n",
    "\n",
    "The following notebook was used to briefly evaluate different elimination ordering heuristics from our heuristics package. We use multiplication and marginalization computation counts as a metric for measuring heuristic effectiveness.\n",
    "\n",
    "Note that because ordering ties are broken arbitrarily (e.g., for most_incoming_arcs_first, the ordering of two nodes with respect to eachother with r incoming arcs will be decided arbitrarily), running a query with the same ordering heuristic multiple times may give different runtimes and computation counts."
   ]
  },
  {
   "cell_type": "code",
   "execution_count": 1,
   "metadata": {},
   "outputs": [],
   "source": [
    "from read_bayesnet import BayesNet\n",
    "from variable_elim import VariableElimination\n",
    "import heuristics\n",
    "from reports import CostTracker\n",
    "net = BayesNet('network_files/earthquake.bif')\n",
    "# net = BayesNet('insurance.bif')\n",
    "# net = BayesNet('lungcancer.bif')\n",
    "# net = BayesNet('sachs.bif')\n",
    "\n",
    "ve = VariableElimination(net)\n",
    "\n",
    "# for earthquake.bif\n",
    "# query = 'Alarm'\n",
    "# observed = {'Burglary':'True'}\n",
    "\n",
    "# query = 'JohnCalls'\n",
    "# query = 'Alarm'\n",
    "# observed = {}\n",
    "\n",
    "# for insurance.bif\n",
    "# query = 'GoodStudent'\n",
    "# observed = {'RiskAversion':'Adventurous',\n",
    "#            'MakeModel':'FamilySedan', 'VehicleYear':'Current', 'DrivingSkill':'Normal',\n",
    "#            'Mileage':'FiveThou', 'CarValue':'TenThou'}\n",
    "\n",
    "# for sachs.bif\n",
    "# query = 'Akt'\n",
    "# observed = {'Jnk':'LOW', 'PKC':'HIGH'}\n",
    "\n",
    "# for k, v in net.probabilities.items():\n",
    "#     print(k)\n",
    "#     print(v)\n",
    "#     print(\"-----\")"
   ]
  },
  {
   "cell_type": "markdown",
   "metadata": {},
   "source": [
    "# earthquake.bif\n",
    "\n",
    "### query: Alarm\n",
    "\n",
    "### Observed = {'Burglary': 'True'}"
   ]
  },
  {
   "cell_type": "code",
   "execution_count": 2,
   "metadata": {},
   "outputs": [],
   "source": [
    "net = BayesNet('network_files/earthquake.bif')\n",
    "ve = VariableElimination(net)\n",
    "query = 'Alarm'\n",
    "observed = {'Burglary':'True'}"
   ]
  },
  {
   "cell_type": "code",
   "execution_count": 3,
   "metadata": {},
   "outputs": [
    {
     "name": "stdout",
     "output_type": "stream",
     "text": [
      "Eliminating:  MaryCalls\n",
      "Eliminating:  JohnCalls\n",
      "Eliminating:  Earthquake\n",
      "   Alarm    prob\n",
      "0   True  0.9402\n",
      "1  False  0.0598\n",
      "Approximate computations:  22\n"
     ]
    }
   ],
   "source": [
    "elim_order = heuristics.fewest_factors_first\n",
    "\n",
    "cost_tracker = CostTracker()\n",
    "\n",
    "distribution = ve.run(query, observed, elim_order, \n",
    "                      verbose=True, cost_tracker=cost_tracker)\n",
    "\n",
    "print(distribution)\n",
    "print(\"Approximate computations: \", cost_tracker.computations)"
   ]
  },
  {
   "cell_type": "code",
   "execution_count": 3,
   "metadata": {},
   "outputs": [
    {
     "name": "stdout",
     "output_type": "stream",
     "text": [
      "Eliminating:  Earthquake\n",
      "Eliminating:  MaryCalls\n",
      "Eliminating:  JohnCalls\n",
      "   Alarm    prob\n",
      "0   True  0.9402\n",
      "1  False  0.0598\n",
      "Approximate computations:  22\n"
     ]
    }
   ],
   "source": [
    "elim_order = heuristics.most_factors_first\n",
    "\n",
    "cost_tracker = CostTracker()\n",
    "\n",
    "distribution = ve.run(query, observed, elim_order, \n",
    "                      verbose=True, cost_tracker=cost_tracker)\n",
    "\n",
    "print(distribution)\n",
    "print(\"Approximate computations: \", cost_tracker.computations)"
   ]
  },
  {
   "cell_type": "code",
   "execution_count": 3,
   "metadata": {},
   "outputs": [
    {
     "name": "stdout",
     "output_type": "stream",
     "text": [
      "Eliminating:  Earthquake\n",
      "Eliminating:  JohnCalls\n",
      "Eliminating:  MaryCalls\n",
      "   Alarm    prob\n",
      "0   True  0.9402\n",
      "1  False  0.0598\n",
      "Approximate computations:  22\n"
     ]
    }
   ],
   "source": [
    "elim_order = heuristics.least_incoming_arcs_first\n",
    "\n",
    "cost_tracker = CostTracker()\n",
    "\n",
    "distribution = ve.run(query, observed, elim_order, \n",
    "                      verbose=True, cost_tracker=cost_tracker)\n",
    "\n",
    "print(distribution)\n",
    "print(\"Approximate computations: \", cost_tracker.computations)"
   ]
  },
  {
   "cell_type": "code",
   "execution_count": 3,
   "metadata": {},
   "outputs": [
    {
     "name": "stdout",
     "output_type": "stream",
     "text": [
      "Eliminating:  JohnCalls\n",
      "Eliminating:  MaryCalls\n",
      "Eliminating:  Earthquake\n",
      "   Alarm    prob\n",
      "0   True  0.9402\n",
      "1  False  0.0598\n",
      "Approximate computations:  22\n"
     ]
    }
   ],
   "source": [
    "elim_order = heuristics.most_incoming_arcs_first\n",
    "\n",
    "cost_tracker = CostTracker()\n",
    "\n",
    "distribution = ve.run(query, observed, elim_order, \n",
    "                      verbose=True, cost_tracker=cost_tracker)\n",
    "\n",
    "print(distribution)\n",
    "print(\"Approximate computations: \", cost_tracker.computations)"
   ]
  },
  {
   "cell_type": "markdown",
   "metadata": {},
   "source": [
    "# earthquake.bif\n",
    "\n",
    "### query: Earthquake\n",
    "\n",
    "### Observed = {}"
   ]
  },
  {
   "cell_type": "code",
   "execution_count": 1,
   "metadata": {},
   "outputs": [],
   "source": [
    "from read_bayesnet import BayesNet\n",
    "from variable_elim import VariableElimination\n",
    "import heuristics\n",
    "from reports import CostTracker\n",
    "net = BayesNet('network_files/earthquake.bif')\n",
    "# net = BayesNet('insurance.bif')\n",
    "# net = BayesNet('lungcancer.bif')\n",
    "# net = BayesNet('sachs.bif')\n",
    "\n",
    "ve = VariableElimination(net)\n",
    "\n",
    "query = 'Earthquake'\n",
    "observed = {}"
   ]
  },
  {
   "cell_type": "code",
   "execution_count": 3,
   "metadata": {},
   "outputs": [
    {
     "name": "stdout",
     "output_type": "stream",
     "text": [
      "Eliminating:  MaryCalls\n",
      "Eliminating:  JohnCalls\n",
      "Eliminating:  Burglary\n",
      "Eliminating:  Alarm\n",
      "  Earthquake  prob\n",
      "0       True  0.02\n",
      "1      False  0.98\n",
      "Approximate computations:  34\n"
     ]
    }
   ],
   "source": [
    "elim_order = heuristics.fewest_factors_first\n",
    "\n",
    "cost_tracker = CostTracker()\n",
    "\n",
    "distribution = ve.run(query, observed, elim_order, \n",
    "                      verbose=True, cost_tracker=cost_tracker)\n",
    "\n",
    "print(distribution)\n",
    "print(\"Approximate computations: \", cost_tracker.computations)"
   ]
  },
  {
   "cell_type": "code",
   "execution_count": 2,
   "metadata": {},
   "outputs": [
    {
     "name": "stdout",
     "output_type": "stream",
     "text": [
      "Eliminating:  Alarm\n",
      "Eliminating:  Burglary\n",
      "Eliminating:  MaryCalls\n",
      "Eliminating:  JohnCalls\n",
      "  Earthquake  prob\n",
      "0       True  0.02\n",
      "1      False  0.98\n",
      "Approximate computations:  106\n"
     ]
    }
   ],
   "source": [
    "elim_order = heuristics.most_factors_first\n",
    "\n",
    "cost_tracker = CostTracker()\n",
    "\n",
    "distribution = ve.run(query, observed, elim_order, \n",
    "                      verbose=True, cost_tracker=cost_tracker)\n",
    "\n",
    "print(distribution)\n",
    "print(\"Approximate computations: \", cost_tracker.computations)"
   ]
  },
  {
   "cell_type": "code",
   "execution_count": 2,
   "metadata": {},
   "outputs": [
    {
     "name": "stdout",
     "output_type": "stream",
     "text": [
      "Eliminating:  Burglary\n",
      "Eliminating:  MaryCalls\n",
      "Eliminating:  JohnCalls\n",
      "Eliminating:  Alarm\n",
      "  Earthquake  prob\n",
      "0       True  0.02\n",
      "1      False  0.98\n",
      "Approximate computations:  34\n"
     ]
    }
   ],
   "source": [
    "elim_order = heuristics.least_incoming_arcs_first\n",
    "\n",
    "cost_tracker = CostTracker()\n",
    "\n",
    "distribution = ve.run(query, observed, elim_order, \n",
    "                      verbose=True, cost_tracker=cost_tracker)\n",
    "\n",
    "print(distribution)\n",
    "print(\"Approximate computations: \", cost_tracker.computations)"
   ]
  },
  {
   "cell_type": "code",
   "execution_count": 2,
   "metadata": {},
   "outputs": [
    {
     "name": "stdout",
     "output_type": "stream",
     "text": [
      "Eliminating:  Alarm\n",
      "Eliminating:  MaryCalls\n",
      "Eliminating:  JohnCalls\n",
      "Eliminating:  Burglary\n",
      "  Earthquake  prob\n",
      "0       True  0.02\n",
      "1      False  0.98\n",
      "Approximate computations:  100\n"
     ]
    }
   ],
   "source": [
    "elim_order = heuristics.most_incoming_arcs_first\n",
    "\n",
    "cost_tracker = CostTracker()\n",
    "\n",
    "distribution = ve.run(query, observed, elim_order, \n",
    "                      verbose=True, cost_tracker=cost_tracker)\n",
    "\n",
    "print(distribution)\n",
    "print(\"Approximate computations: \", cost_tracker.computations)"
   ]
  },
  {
   "cell_type": "markdown",
   "metadata": {},
   "source": [
    "# insurance.bif\n",
    "\n",
    "### Query: Good Student\n",
    "\n",
    "### Observed = {'RiskAversion':'Adventurous',  'MakeModel':'FamilySedan', 'VehicleYear':'Current', 'DrivingSkill':'Normal', 'Mileage':'FiveThou', 'CarValue':'TenThou'}"
   ]
  },
  {
   "cell_type": "code",
   "execution_count": 1,
   "metadata": {},
   "outputs": [],
   "source": [
    "from read_bayesnet import BayesNet\n",
    "from variable_elim import VariableElimination\n",
    "import heuristics\n",
    "from reports import CostTracker\n",
    "# net = BayesNet('earthquake.bif')\n",
    "net = BayesNet('network_files/insurance.bif')\n",
    "# net = BayesNet('lungcancer.bif')\n",
    "# net = BayesNet('sachs.bif')\n",
    "\n",
    "ve = VariableElimination(net)\n",
    "\n",
    "query = 'GoodStudent'\n",
    "observed = {'RiskAversion':'Adventurous',  'MakeModel':'FamilySedan', \n",
    "            'VehicleYear':'Current', 'DrivingSkill':'Normal', \n",
    "            'Mileage':'FiveThou', 'CarValue':'TenThou'}"
   ]
  },
  {
   "cell_type": "code",
   "execution_count": 2,
   "metadata": {},
   "outputs": [
    {
     "name": "stdout",
     "output_type": "stream",
     "text": [
      "Eliminating:  MedCost\n",
      "Eliminating:  PropCost\n",
      "Eliminating:  ILiCost\n",
      "Eliminating:  OtherCar\n",
      "Eliminating:  DrivHist\n",
      "Eliminating:  Cushioning\n",
      "Eliminating:  OtherCarCost\n",
      "Eliminating:  ThisCarCost\n",
      "Eliminating:  Airbag\n",
      "Eliminating:  Antilock\n",
      "Eliminating:  DrivQuality\n",
      "Eliminating:  HomeBase\n",
      "Eliminating:  AntiTheft\n",
      "Eliminating:  ThisCarDam\n",
      "Eliminating:  Theft\n",
      "Eliminating:  SeniorTrain\n",
      "Eliminating:  RuggedAuto\n",
      "Eliminating:  Accident\n",
      "Eliminating:  Age\n",
      "Eliminating:  SocioEcon\n",
      "  GoodStudent      prob\n",
      "0        True  0.091743\n",
      "1       False  0.908257\n",
      "Approximate computations:  1555\n"
     ]
    }
   ],
   "source": [
    "elim_order = heuristics.fewest_factors_first\n",
    "\n",
    "cost_tracker = CostTracker()\n",
    "\n",
    "distribution = ve.run(query, observed, elim_order, \n",
    "                      verbose=True, cost_tracker=cost_tracker)\n",
    "\n",
    "print(distribution)\n",
    "print(\"Approximate computations: \", cost_tracker.computations)"
   ]
  },
  {
   "cell_type": "code",
   "execution_count": 2,
   "metadata": {},
   "outputs": [
    {
     "name": "stdout",
     "output_type": "stream",
     "text": [
      "Eliminating:  SocioEcon\n",
      "Eliminating:  Age\n",
      "Eliminating:  Accident\n"
     ]
    },
    {
     "ename": "KeyboardInterrupt",
     "evalue": "",
     "output_type": "error",
     "traceback": [
      "\u001b[0;31m---------------------------------------------------------------------------\u001b[0m",
      "\u001b[0;31mKeyboardInterrupt\u001b[0m                         Traceback (most recent call last)",
      "\u001b[0;32m<ipython-input-2-70008b34aca4>\u001b[0m in \u001b[0;36m<module>\u001b[0;34m\u001b[0m\n\u001b[1;32m      4\u001b[0m \u001b[0;34m\u001b[0m\u001b[0m\n\u001b[1;32m      5\u001b[0m distribution = ve.run(query, observed, elim_order, \n\u001b[0;32m----> 6\u001b[0;31m                       verbose=True, cost_tracker=cost_tracker)\n\u001b[0m\u001b[1;32m      7\u001b[0m \u001b[0;34m\u001b[0m\u001b[0m\n\u001b[1;32m      8\u001b[0m \u001b[0mprint\u001b[0m\u001b[0;34m(\u001b[0m\u001b[0mdistribution\u001b[0m\u001b[0;34m)\u001b[0m\u001b[0;34m\u001b[0m\u001b[0;34m\u001b[0m\u001b[0m\n",
      "\u001b[0;32m~/Documents/RadboudClasses/AI_PnT/Assignment3/VariableElimination_Python/variable_elim_factorGroup.py\u001b[0m in \u001b[0;36mrun\u001b[0;34m(self, query, observed, elim_heuristic, verbose, cost_tracker)\u001b[0m\n\u001b[1;32m     75\u001b[0m \u001b[0;34m\u001b[0m\u001b[0m\n\u001b[1;32m     76\u001b[0m             \u001b[0mRs\u001b[0m \u001b[0;34m=\u001b[0m \u001b[0mfactors\u001b[0m\u001b[0;34m.\u001b[0m\u001b[0mextractInvolving\u001b[0m\u001b[0;34m(\u001b[0m\u001b[0mX\u001b[0m\u001b[0;34m)\u001b[0m\u001b[0;34m\u001b[0m\u001b[0;34m\u001b[0m\u001b[0m\n\u001b[0;32m---> 77\u001b[0;31m             \u001b[0mT\u001b[0m \u001b[0;34m=\u001b[0m \u001b[0mRs\u001b[0m\u001b[0;34m.\u001b[0m\u001b[0mmultiply\u001b[0m\u001b[0;34m(\u001b[0m\u001b[0;34m)\u001b[0m\u001b[0;34m\u001b[0m\u001b[0;34m\u001b[0m\u001b[0m\n\u001b[0m\u001b[1;32m     78\u001b[0m \u001b[0;34m\u001b[0m\u001b[0m\n\u001b[1;32m     79\u001b[0m             \u001b[0mwriter\u001b[0m\u001b[0;34m.\u001b[0m\u001b[0mprint_message\u001b[0m\u001b[0;34m(\u001b[0m\u001b[0;34m\"Multiplying following factors which contain X:\"\u001b[0m\u001b[0;34m)\u001b[0m\u001b[0;34m\u001b[0m\u001b[0;34m\u001b[0m\u001b[0m\n",
      "\u001b[0;32m~/Documents/RadboudClasses/AI_PnT/Assignment3/VariableElimination_Python/factors.py\u001b[0m in \u001b[0;36mmultiply\u001b[0;34m(self)\u001b[0m\n\u001b[1;32m    154\u001b[0m         \u001b[0;31m# product, and their row indices exactly correspond to product's.\u001b[0m\u001b[0;34m\u001b[0m\u001b[0;34m\u001b[0m\u001b[0;34m\u001b[0m\u001b[0m\n\u001b[1;32m    155\u001b[0m         \u001b[0;31m# These extensions are stored in merges\u001b[0m\u001b[0;34m\u001b[0m\u001b[0;34m\u001b[0m\u001b[0;34m\u001b[0m\u001b[0m\n\u001b[0;32m--> 156\u001b[0;31m         \u001b[0mmerges\u001b[0m \u001b[0;34m=\u001b[0m \u001b[0;34m[\u001b[0m\u001b[0mproduct\u001b[0m\u001b[0;34m.\u001b[0m\u001b[0mmerge\u001b[0m\u001b[0;34m(\u001b[0m\u001b[0mfactor\u001b[0m\u001b[0;34m)\u001b[0m \u001b[0;32mfor\u001b[0m \u001b[0mfactor\u001b[0m \u001b[0;32min\u001b[0m \u001b[0mself\u001b[0m\u001b[0;34m.\u001b[0m\u001b[0mfactors\u001b[0m\u001b[0;34m]\u001b[0m\u001b[0;34m\u001b[0m\u001b[0;34m\u001b[0m\u001b[0m\n\u001b[0m\u001b[1;32m    157\u001b[0m \u001b[0;34m\u001b[0m\u001b[0m\n\u001b[1;32m    158\u001b[0m         \u001b[0;31m# multiplies probabilities of resulting merges together row-by-row\u001b[0m\u001b[0;34m\u001b[0m\u001b[0;34m\u001b[0m\u001b[0;34m\u001b[0m\u001b[0m\n",
      "\u001b[0;32m~/Documents/RadboudClasses/AI_PnT/Assignment3/VariableElimination_Python/factors.py\u001b[0m in \u001b[0;36m<listcomp>\u001b[0;34m(.0)\u001b[0m\n\u001b[1;32m    154\u001b[0m         \u001b[0;31m# product, and their row indices exactly correspond to product's.\u001b[0m\u001b[0;34m\u001b[0m\u001b[0;34m\u001b[0m\u001b[0;34m\u001b[0m\u001b[0m\n\u001b[1;32m    155\u001b[0m         \u001b[0;31m# These extensions are stored in merges\u001b[0m\u001b[0;34m\u001b[0m\u001b[0;34m\u001b[0m\u001b[0;34m\u001b[0m\u001b[0m\n\u001b[0;32m--> 156\u001b[0;31m         \u001b[0mmerges\u001b[0m \u001b[0;34m=\u001b[0m \u001b[0;34m[\u001b[0m\u001b[0mproduct\u001b[0m\u001b[0;34m.\u001b[0m\u001b[0mmerge\u001b[0m\u001b[0;34m(\u001b[0m\u001b[0mfactor\u001b[0m\u001b[0;34m)\u001b[0m \u001b[0;32mfor\u001b[0m \u001b[0mfactor\u001b[0m \u001b[0;32min\u001b[0m \u001b[0mself\u001b[0m\u001b[0;34m.\u001b[0m\u001b[0mfactors\u001b[0m\u001b[0;34m]\u001b[0m\u001b[0;34m\u001b[0m\u001b[0;34m\u001b[0m\u001b[0m\n\u001b[0m\u001b[1;32m    157\u001b[0m \u001b[0;34m\u001b[0m\u001b[0m\n\u001b[1;32m    158\u001b[0m         \u001b[0;31m# multiplies probabilities of resulting merges together row-by-row\u001b[0m\u001b[0;34m\u001b[0m\u001b[0;34m\u001b[0m\u001b[0;34m\u001b[0m\u001b[0m\n",
      "\u001b[0;32m~/Documents/RadboudClasses/AI_PnT/Assignment3/VariableElimination_Python/factors.py\u001b[0m in \u001b[0;36mmerge\u001b[0;34m(self, factor)\u001b[0m\n\u001b[1;32m    259\u001b[0m         \u001b[0mparam\u001b[0m \u001b[0mfactor\u001b[0m\u001b[0;34m:\u001b[0m \u001b[0mfactor\u001b[0m \u001b[0mto\u001b[0m \u001b[0mmerge\u001b[0m \u001b[0;32mwith\u001b[0m\u001b[0;34m\u001b[0m\u001b[0;34m\u001b[0m\u001b[0m\n\u001b[1;32m    260\u001b[0m         \"\"\"\n\u001b[0;32m--> 261\u001b[0;31m         \u001b[0;32mreturn\u001b[0m \u001b[0mself\u001b[0m\u001b[0;34m.\u001b[0m\u001b[0mcp_table\u001b[0m\u001b[0;34m.\u001b[0m\u001b[0mmerge\u001b[0m\u001b[0;34m(\u001b[0m\u001b[0mfactor\u001b[0m\u001b[0;34m.\u001b[0m\u001b[0mcp_table\u001b[0m\u001b[0;34m,\u001b[0m \u001b[0mhow\u001b[0m\u001b[0;34m=\u001b[0m\u001b[0;34m'left'\u001b[0m\u001b[0;34m)\u001b[0m\u001b[0;34m\u001b[0m\u001b[0;34m\u001b[0m\u001b[0m\n\u001b[0m\u001b[1;32m    262\u001b[0m \u001b[0;34m\u001b[0m\u001b[0m\n\u001b[1;32m    263\u001b[0m \u001b[0;34m\u001b[0m\u001b[0m\n",
      "\u001b[0;32m~/anaconda3/lib/python3.7/site-packages/pandas/core/frame.py\u001b[0m in \u001b[0;36mmerge\u001b[0;34m(self, right, how, on, left_on, right_on, left_index, right_index, sort, suffixes, copy, indicator, validate)\u001b[0m\n\u001b[1;32m   7332\u001b[0m             \u001b[0mcopy\u001b[0m\u001b[0;34m=\u001b[0m\u001b[0mcopy\u001b[0m\u001b[0;34m,\u001b[0m\u001b[0;34m\u001b[0m\u001b[0;34m\u001b[0m\u001b[0m\n\u001b[1;32m   7333\u001b[0m             \u001b[0mindicator\u001b[0m\u001b[0;34m=\u001b[0m\u001b[0mindicator\u001b[0m\u001b[0;34m,\u001b[0m\u001b[0;34m\u001b[0m\u001b[0;34m\u001b[0m\u001b[0m\n\u001b[0;32m-> 7334\u001b[0;31m             \u001b[0mvalidate\u001b[0m\u001b[0;34m=\u001b[0m\u001b[0mvalidate\u001b[0m\u001b[0;34m,\u001b[0m\u001b[0;34m\u001b[0m\u001b[0;34m\u001b[0m\u001b[0m\n\u001b[0m\u001b[1;32m   7335\u001b[0m         )\n\u001b[1;32m   7336\u001b[0m \u001b[0;34m\u001b[0m\u001b[0m\n",
      "\u001b[0;32m~/anaconda3/lib/python3.7/site-packages/pandas/core/reshape/merge.py\u001b[0m in \u001b[0;36mmerge\u001b[0;34m(left, right, how, on, left_on, right_on, left_index, right_index, sort, suffixes, copy, indicator, validate)\u001b[0m\n\u001b[1;32m     81\u001b[0m         \u001b[0mvalidate\u001b[0m\u001b[0;34m=\u001b[0m\u001b[0mvalidate\u001b[0m\u001b[0;34m,\u001b[0m\u001b[0;34m\u001b[0m\u001b[0;34m\u001b[0m\u001b[0m\n\u001b[1;32m     82\u001b[0m     )\n\u001b[0;32m---> 83\u001b[0;31m     \u001b[0;32mreturn\u001b[0m \u001b[0mop\u001b[0m\u001b[0;34m.\u001b[0m\u001b[0mget_result\u001b[0m\u001b[0;34m(\u001b[0m\u001b[0;34m)\u001b[0m\u001b[0;34m\u001b[0m\u001b[0;34m\u001b[0m\u001b[0m\n\u001b[0m\u001b[1;32m     84\u001b[0m \u001b[0;34m\u001b[0m\u001b[0m\n\u001b[1;32m     85\u001b[0m \u001b[0;34m\u001b[0m\u001b[0m\n",
      "\u001b[0;32m~/anaconda3/lib/python3.7/site-packages/pandas/core/reshape/merge.py\u001b[0m in \u001b[0;36mget_result\u001b[0;34m(self)\u001b[0m\n\u001b[1;32m    640\u001b[0m             \u001b[0mself\u001b[0m\u001b[0;34m.\u001b[0m\u001b[0mleft\u001b[0m\u001b[0;34m,\u001b[0m \u001b[0mself\u001b[0m\u001b[0;34m.\u001b[0m\u001b[0mright\u001b[0m \u001b[0;34m=\u001b[0m \u001b[0mself\u001b[0m\u001b[0;34m.\u001b[0m\u001b[0m_indicator_pre_merge\u001b[0m\u001b[0;34m(\u001b[0m\u001b[0mself\u001b[0m\u001b[0;34m.\u001b[0m\u001b[0mleft\u001b[0m\u001b[0;34m,\u001b[0m \u001b[0mself\u001b[0m\u001b[0;34m.\u001b[0m\u001b[0mright\u001b[0m\u001b[0;34m)\u001b[0m\u001b[0;34m\u001b[0m\u001b[0;34m\u001b[0m\u001b[0m\n\u001b[1;32m    641\u001b[0m \u001b[0;34m\u001b[0m\u001b[0m\n\u001b[0;32m--> 642\u001b[0;31m         \u001b[0mjoin_index\u001b[0m\u001b[0;34m,\u001b[0m \u001b[0mleft_indexer\u001b[0m\u001b[0;34m,\u001b[0m \u001b[0mright_indexer\u001b[0m \u001b[0;34m=\u001b[0m \u001b[0mself\u001b[0m\u001b[0;34m.\u001b[0m\u001b[0m_get_join_info\u001b[0m\u001b[0;34m(\u001b[0m\u001b[0;34m)\u001b[0m\u001b[0;34m\u001b[0m\u001b[0;34m\u001b[0m\u001b[0m\n\u001b[0m\u001b[1;32m    643\u001b[0m \u001b[0;34m\u001b[0m\u001b[0m\n\u001b[1;32m    644\u001b[0m         \u001b[0mldata\u001b[0m\u001b[0;34m,\u001b[0m \u001b[0mrdata\u001b[0m \u001b[0;34m=\u001b[0m \u001b[0mself\u001b[0m\u001b[0;34m.\u001b[0m\u001b[0mleft\u001b[0m\u001b[0;34m.\u001b[0m\u001b[0m_data\u001b[0m\u001b[0;34m,\u001b[0m \u001b[0mself\u001b[0m\u001b[0;34m.\u001b[0m\u001b[0mright\u001b[0m\u001b[0;34m.\u001b[0m\u001b[0m_data\u001b[0m\u001b[0;34m\u001b[0m\u001b[0;34m\u001b[0m\u001b[0m\n",
      "\u001b[0;32m~/anaconda3/lib/python3.7/site-packages/pandas/core/reshape/merge.py\u001b[0m in \u001b[0;36m_get_join_info\u001b[0;34m(self)\u001b[0m\n\u001b[1;32m    857\u001b[0m             )\n\u001b[1;32m    858\u001b[0m         \u001b[0;32melse\u001b[0m\u001b[0;34m:\u001b[0m\u001b[0;34m\u001b[0m\u001b[0;34m\u001b[0m\u001b[0m\n\u001b[0;32m--> 859\u001b[0;31m             \u001b[0;34m(\u001b[0m\u001b[0mleft_indexer\u001b[0m\u001b[0;34m,\u001b[0m \u001b[0mright_indexer\u001b[0m\u001b[0;34m)\u001b[0m \u001b[0;34m=\u001b[0m \u001b[0mself\u001b[0m\u001b[0;34m.\u001b[0m\u001b[0m_get_join_indexers\u001b[0m\u001b[0;34m(\u001b[0m\u001b[0;34m)\u001b[0m\u001b[0;34m\u001b[0m\u001b[0;34m\u001b[0m\u001b[0m\n\u001b[0m\u001b[1;32m    860\u001b[0m \u001b[0;34m\u001b[0m\u001b[0m\n\u001b[1;32m    861\u001b[0m             \u001b[0;32mif\u001b[0m \u001b[0mself\u001b[0m\u001b[0;34m.\u001b[0m\u001b[0mright_index\u001b[0m\u001b[0;34m:\u001b[0m\u001b[0;34m\u001b[0m\u001b[0;34m\u001b[0m\u001b[0m\n",
      "\u001b[0;32m~/anaconda3/lib/python3.7/site-packages/pandas/core/reshape/merge.py\u001b[0m in \u001b[0;36m_get_join_indexers\u001b[0;34m(self)\u001b[0m\n\u001b[1;32m    836\u001b[0m         \u001b[0;34m\"\"\" return the join indexers \"\"\"\u001b[0m\u001b[0;34m\u001b[0m\u001b[0;34m\u001b[0m\u001b[0m\n\u001b[1;32m    837\u001b[0m         return _get_join_indexers(\n\u001b[0;32m--> 838\u001b[0;31m             \u001b[0mself\u001b[0m\u001b[0;34m.\u001b[0m\u001b[0mleft_join_keys\u001b[0m\u001b[0;34m,\u001b[0m \u001b[0mself\u001b[0m\u001b[0;34m.\u001b[0m\u001b[0mright_join_keys\u001b[0m\u001b[0;34m,\u001b[0m \u001b[0msort\u001b[0m\u001b[0;34m=\u001b[0m\u001b[0mself\u001b[0m\u001b[0;34m.\u001b[0m\u001b[0msort\u001b[0m\u001b[0;34m,\u001b[0m \u001b[0mhow\u001b[0m\u001b[0;34m=\u001b[0m\u001b[0mself\u001b[0m\u001b[0;34m.\u001b[0m\u001b[0mhow\u001b[0m\u001b[0;34m\u001b[0m\u001b[0;34m\u001b[0m\u001b[0m\n\u001b[0m\u001b[1;32m    839\u001b[0m         )\n\u001b[1;32m    840\u001b[0m \u001b[0;34m\u001b[0m\u001b[0m\n",
      "\u001b[0;32m~/anaconda3/lib/python3.7/site-packages/pandas/core/reshape/merge.py\u001b[0m in \u001b[0;36m_get_join_indexers\u001b[0;34m(left_keys, right_keys, sort, how, **kwargs)\u001b[0m\n\u001b[1;32m   1302\u001b[0m \u001b[0;34m\u001b[0m\u001b[0m\n\u001b[1;32m   1303\u001b[0m     \u001b[0;31m# get left & right join labels and num. of levels at each location\u001b[0m\u001b[0;34m\u001b[0m\u001b[0;34m\u001b[0m\u001b[0;34m\u001b[0m\u001b[0m\n\u001b[0;32m-> 1304\u001b[0;31m     \u001b[0mllab\u001b[0m\u001b[0;34m,\u001b[0m \u001b[0mrlab\u001b[0m\u001b[0;34m,\u001b[0m \u001b[0mshape\u001b[0m \u001b[0;34m=\u001b[0m \u001b[0mmap\u001b[0m\u001b[0;34m(\u001b[0m\u001b[0mlist\u001b[0m\u001b[0;34m,\u001b[0m \u001b[0mzip\u001b[0m\u001b[0;34m(\u001b[0m\u001b[0;34m*\u001b[0m\u001b[0mmap\u001b[0m\u001b[0;34m(\u001b[0m\u001b[0mfkeys\u001b[0m\u001b[0;34m,\u001b[0m \u001b[0mleft_keys\u001b[0m\u001b[0;34m,\u001b[0m \u001b[0mright_keys\u001b[0m\u001b[0;34m)\u001b[0m\u001b[0;34m)\u001b[0m\u001b[0;34m)\u001b[0m\u001b[0;34m\u001b[0m\u001b[0;34m\u001b[0m\u001b[0m\n\u001b[0m\u001b[1;32m   1305\u001b[0m \u001b[0;34m\u001b[0m\u001b[0m\n\u001b[1;32m   1306\u001b[0m     \u001b[0;31m# get flat i8 keys from label lists\u001b[0m\u001b[0;34m\u001b[0m\u001b[0;34m\u001b[0m\u001b[0;34m\u001b[0m\u001b[0m\n",
      "\u001b[0;32m~/anaconda3/lib/python3.7/site-packages/pandas/core/reshape/merge.py\u001b[0m in \u001b[0;36m_factorize_keys\u001b[0;34m(lk, rk, sort)\u001b[0m\n\u001b[1;32m   1900\u001b[0m     \u001b[0mrizer\u001b[0m \u001b[0;34m=\u001b[0m \u001b[0mklass\u001b[0m\u001b[0;34m(\u001b[0m\u001b[0mmax\u001b[0m\u001b[0;34m(\u001b[0m\u001b[0mlen\u001b[0m\u001b[0;34m(\u001b[0m\u001b[0mlk\u001b[0m\u001b[0;34m)\u001b[0m\u001b[0;34m,\u001b[0m \u001b[0mlen\u001b[0m\u001b[0;34m(\u001b[0m\u001b[0mrk\u001b[0m\u001b[0;34m)\u001b[0m\u001b[0;34m)\u001b[0m\u001b[0;34m)\u001b[0m\u001b[0;34m\u001b[0m\u001b[0;34m\u001b[0m\u001b[0m\n\u001b[1;32m   1901\u001b[0m \u001b[0;34m\u001b[0m\u001b[0m\n\u001b[0;32m-> 1902\u001b[0;31m     \u001b[0mllab\u001b[0m \u001b[0;34m=\u001b[0m \u001b[0mrizer\u001b[0m\u001b[0;34m.\u001b[0m\u001b[0mfactorize\u001b[0m\u001b[0;34m(\u001b[0m\u001b[0mlk\u001b[0m\u001b[0;34m)\u001b[0m\u001b[0;34m\u001b[0m\u001b[0;34m\u001b[0m\u001b[0m\n\u001b[0m\u001b[1;32m   1903\u001b[0m     \u001b[0mrlab\u001b[0m \u001b[0;34m=\u001b[0m \u001b[0mrizer\u001b[0m\u001b[0;34m.\u001b[0m\u001b[0mfactorize\u001b[0m\u001b[0;34m(\u001b[0m\u001b[0mrk\u001b[0m\u001b[0;34m)\u001b[0m\u001b[0;34m\u001b[0m\u001b[0;34m\u001b[0m\u001b[0m\n\u001b[1;32m   1904\u001b[0m \u001b[0;34m\u001b[0m\u001b[0m\n",
      "\u001b[0;32mpandas/_libs/hashtable.pyx\u001b[0m in \u001b[0;36mpandas._libs.hashtable.Factorizer.factorize\u001b[0;34m()\u001b[0m\n",
      "\u001b[0;32mpandas/_libs/hashtable_class_helper.pxi\u001b[0m in \u001b[0;36mpandas._libs.hashtable.PyObjectHashTable.get_labels\u001b[0;34m()\u001b[0m\n",
      "\u001b[0;32mpandas/_libs/hashtable_class_helper.pxi\u001b[0m in \u001b[0;36mpandas._libs.hashtable.PyObjectHashTable._unique\u001b[0;34m()\u001b[0m\n",
      "\u001b[0;32m~/anaconda3/lib/python3.7/site-packages/numpy/core/_asarray.py\u001b[0m in \u001b[0;36masarray\u001b[0;34m(a, dtype, order)\u001b[0m\n\u001b[1;32m     14\u001b[0m ]\n\u001b[1;32m     15\u001b[0m \u001b[0;34m\u001b[0m\u001b[0m\n\u001b[0;32m---> 16\u001b[0;31m \u001b[0;34m@\u001b[0m\u001b[0mset_module\u001b[0m\u001b[0;34m(\u001b[0m\u001b[0;34m'numpy'\u001b[0m\u001b[0;34m)\u001b[0m\u001b[0;34m\u001b[0m\u001b[0;34m\u001b[0m\u001b[0m\n\u001b[0m\u001b[1;32m     17\u001b[0m \u001b[0;32mdef\u001b[0m \u001b[0masarray\u001b[0m\u001b[0;34m(\u001b[0m\u001b[0ma\u001b[0m\u001b[0;34m,\u001b[0m \u001b[0mdtype\u001b[0m\u001b[0;34m=\u001b[0m\u001b[0;32mNone\u001b[0m\u001b[0;34m,\u001b[0m \u001b[0morder\u001b[0m\u001b[0;34m=\u001b[0m\u001b[0;32mNone\u001b[0m\u001b[0;34m)\u001b[0m\u001b[0;34m:\u001b[0m\u001b[0;34m\u001b[0m\u001b[0;34m\u001b[0m\u001b[0m\n\u001b[1;32m     18\u001b[0m     \"\"\"Convert the input to an array.\n",
      "\u001b[0;31mKeyboardInterrupt\u001b[0m: "
     ]
    }
   ],
   "source": [
    "elim_order = heuristics.most_factors_first\n",
    "\n",
    "cost_tracker = CostTracker()\n",
    "\n",
    "distribution = ve.run(query, observed, elim_order, \n",
    "                      verbose=True, cost_tracker=cost_tracker)\n",
    "\n",
    "print(distribution)\n",
    "print(\"Approximate computations: \", cost_tracker.computations)"
   ]
  },
  {
   "cell_type": "markdown",
   "metadata": {},
   "source": [
    "The above query overloaded memory on my machine. It is safe to say most_factors_first is not the optimum heuristic"
   ]
  },
  {
   "cell_type": "code",
   "execution_count": 2,
   "metadata": {},
   "outputs": [
    {
     "name": "stdout",
     "output_type": "stream",
     "text": [
      "Eliminating:  MedCost\n",
      "Eliminating:  ThisCarDam\n",
      "Eliminating:  Accident\n",
      "Eliminating:  OtherCarCost\n",
      "Eliminating:  ThisCarCost\n",
      "Eliminating:  Theft\n",
      "Eliminating:  Cushioning\n",
      "Eliminating:  PropCost\n",
      "Eliminating:  SocioEcon\n",
      "Eliminating:  HomeBase\n",
      "Eliminating:  ILiCost\n",
      "Eliminating:  SeniorTrain\n",
      "Eliminating:  AntiTheft\n",
      "Eliminating:  OtherCar\n",
      "Eliminating:  RuggedAuto\n",
      "Eliminating:  Airbag\n",
      "Eliminating:  DrivHist\n",
      "Eliminating:  DrivQuality\n",
      "Eliminating:  Age\n",
      "Eliminating:  Antilock\n",
      "  GoodStudent      prob\n",
      "0        True  0.091743\n",
      "1       False  0.908257\n",
      "Approximate computations:  409019\n"
     ]
    }
   ],
   "source": [
    "elim_order = heuristics.most_incoming_arcs_first\n",
    "\n",
    "cost_tracker = CostTracker()\n",
    "\n",
    "distribution = ve.run(query, observed, elim_order, \n",
    "                      verbose=True, cost_tracker=cost_tracker)\n",
    "\n",
    "print(distribution)\n",
    "print(\"Approximate computations: \", cost_tracker.computations)"
   ]
  },
  {
   "cell_type": "code",
   "execution_count": 2,
   "metadata": {},
   "outputs": [
    {
     "name": "stdout",
     "output_type": "stream",
     "text": [
      "Eliminating:  DrivQuality\n",
      "Eliminating:  Airbag\n",
      "Eliminating:  Antilock\n",
      "Eliminating:  DrivHist\n",
      "Eliminating:  Age\n",
      "Eliminating:  RuggedAuto\n",
      "Eliminating:  ILiCost\n",
      "Eliminating:  OtherCar\n",
      "Eliminating:  SeniorTrain\n",
      "Eliminating:  HomeBase\n",
      "Eliminating:  AntiTheft\n",
      "Eliminating:  SocioEcon\n",
      "Eliminating:  Accident\n",
      "Eliminating:  ThisCarCost\n",
      "Eliminating:  PropCost\n",
      "Eliminating:  OtherCarCost\n",
      "Eliminating:  ThisCarDam\n",
      "Eliminating:  Theft\n",
      "Eliminating:  Cushioning\n",
      "Eliminating:  MedCost\n",
      "  GoodStudent      prob\n",
      "0        True  0.091743\n",
      "1       False  0.908257\n",
      "Approximate computations:  18744\n"
     ]
    }
   ],
   "source": [
    "elim_order = heuristics.least_incoming_arcs_first\n",
    "\n",
    "cost_tracker = CostTracker()\n",
    "\n",
    "distribution = ve.run(query, observed, elim_order, \n",
    "                      verbose=True, cost_tracker=cost_tracker)\n",
    "\n",
    "print(distribution)\n",
    "print(\"Approximate computations: \", cost_tracker.computations)"
   ]
  },
  {
   "cell_type": "code",
   "execution_count": null,
   "metadata": {},
   "outputs": [],
   "source": []
  }
 ],
 "metadata": {
  "kernelspec": {
   "display_name": "Python 3",
   "language": "python",
   "name": "python3"
  },
  "language_info": {
   "codemirror_mode": {
    "name": "ipython",
    "version": 3
   },
   "file_extension": ".py",
   "mimetype": "text/x-python",
   "name": "python",
   "nbconvert_exporter": "python",
   "pygments_lexer": "ipython3",
   "version": "3.7.4"
  }
 },
 "nbformat": 4,
 "nbformat_minor": 2
}
